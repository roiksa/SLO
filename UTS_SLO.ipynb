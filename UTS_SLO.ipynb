{
  "nbformat": 4,
  "nbformat_minor": 0,
  "metadata": {
    "colab": {
      "name": "UTS SLO.ipynb",
      "provenance": [],
      "collapsed_sections": []
    },
    "kernelspec": {
      "name": "python3",
      "display_name": "Python 3"
    },
    "language_info": {
      "name": "python"
    },
    "accelerator": "GPU"
  },
  "cells": [
    {
      "cell_type": "markdown",
      "metadata": {
        "id": "view-in-github"
      },
      "source": [
        "<a href=\"https://colab.research.google.com/github/syamsulrizal123/SLO/blob/main/scene_dataset_using_ANN.ipynb\" target=\"_parent\"><img src=\"https://colab.research.google.com/assets/colab-badge.svg\" alt=\"Open In Colab\"/></a>"
      ]
    },
    {
      "cell_type": "code",
      "metadata": {
        "id": "N7V7EexxuY0O",
        "colab": {
          "base_uri": "https://localhost:8080/"
        },
        "outputId": "ac11d630-2d47-4d74-b335-2b6ab170c7a9"
      },
      "source": [
        "from google.colab import drive\n",
        "drive.mount('/content/drive')"
      ],
      "execution_count": null,
      "outputs": [
        {
          "output_type": "stream",
          "text": [
            "Mounted at /content/drive\n"
          ],
          "name": "stdout"
        }
      ]
    },
    {
      "cell_type": "code",
      "metadata": {
        "id": "bR2GymhI8AOA",
        "colab": {
          "base_uri": "https://localhost:8080/"
        },
        "outputId": "aed3f904-b7fc-4ea3-e23b-ef0c6ef6962a"
      },
      "source": [
        "cd /content/drive/MyDrive/SLO/Dataset\n"
      ],
      "execution_count": null,
      "outputs": [
        {
          "output_type": "stream",
          "text": [
            "/content/drive/MyDrive/SLO/Dataset\n"
          ],
          "name": "stdout"
        }
      ]
    },
    {
      "cell_type": "code",
      "metadata": {
        "id": "Rx4RkctSVV_b",
        "colab": {
          "base_uri": "https://localhost:8080/"
        },
        "outputId": "b1348607-e13c-44aa-88e4-77815ac774f1"
      },
      "source": [
        "ls"
      ],
      "execution_count": null,
      "outputs": [
        {
          "output_type": "stream",
          "text": [
            "\u001b[0m\u001b[01;36m3scene\u001b[0m@\n"
          ],
          "name": "stdout"
        }
      ]
    },
    {
      "cell_type": "markdown",
      "metadata": {
        "id": "qsdBSIfqUIVs"
      },
      "source": [
        "# New Section"
      ]
    },
    {
      "cell_type": "code",
      "metadata": {
        "id": "oJnslb2pulgX"
      },
      "source": [
        "# import the necessary packages\n",
        "from keras.models import Sequential\n",
        "from keras.layers.core import Activation\n",
        "from keras.layers.core import Flatten\n",
        "from keras.layers.core import Dense\n",
        "from keras.optimizers import Adam\n",
        "from sklearn.preprocessing import LabelBinarizer\n",
        "from sklearn.model_selection import train_test_split\n",
        "from sklearn.metrics import classification_report\n",
        "from PIL import Image\n",
        "from imutils import paths\n",
        "import numpy as np\n",
        "import cv2\n",
        "import os"
      ],
      "execution_count": null,
      "outputs": []
    },
    {
      "cell_type": "code",
      "metadata": {
        "id": "sLzkrIF_uo82",
        "colab": {
          "base_uri": "https://localhost:8080/"
        },
        "outputId": "4559fa3d-ca44-456f-b6be-6d96fb145ef8"
      },
      "source": [
        "# grab all image paths in the input dataset directory, then initialize\n",
        "# our list of images and corresponding class labels\n",
        "print(\"[INFO] loading images...\")\n",
        "imagePaths = paths.list_images(\"3scene\")\n",
        "data = []\n",
        "labels = []"
      ],
      "execution_count": null,
      "outputs": [
        {
          "output_type": "stream",
          "text": [
            "[INFO] loading images...\n"
          ],
          "name": "stdout"
        }
      ]
    },
    {
      "cell_type": "code",
      "metadata": {
        "id": "t-rAxV5guqVf"
      },
      "source": [
        "# loop over our input images\n",
        "for imagePath in imagePaths:\n",
        "\t# load the input image from disk, resize it to 64x64 pixels, scale\n",
        "\t# the pixel intensities to the range [0, 1], and then update our\n",
        "\t# images list\n",
        "\timage = Image.open(imagePath)\n",
        " #bisa pasang preprocessing disini jika mau, seperti filterring, dll\n",
        "\timage = np.array(image.resize((256, 256))) / 255.0 #normalisasi\n",
        "\tdata.append(image)\n",
        "\n",
        "\t# extract the class label from the file path and update the\n",
        "\t# labels list\n",
        "\tlabel = imagePath.split(os.path.sep)[-2]\n",
        "\tlabels.append(label)"
      ],
      "execution_count": null,
      "outputs": []
    },
    {
      "cell_type": "code",
      "metadata": {
        "id": "le4zk9atu1vn",
        "colab": {
          "base_uri": "https://localhost:8080/"
        },
        "outputId": "574f0f80-224d-4385-ee7b-918a6fb2c290"
      },
      "source": [
        "print(labels)"
      ],
      "execution_count": null,
      "outputs": [
        {
          "output_type": "stream",
          "text": [
            "['forest', 'forest', 'forest', 'forest', 'forest', 'forest', 'forest', 'forest', 'forest', 'forest', 'forest', 'forest', 'forest', 'forest', 'forest', 'forest', 'forest', 'forest', 'forest', 'forest', 'forest', 'forest', 'forest', 'forest', 'forest', 'forest', 'forest', 'forest', 'forest', 'forest', 'forest', 'forest', 'forest', 'forest', 'forest', 'forest', 'forest', 'forest', 'forest', 'forest', 'forest', 'forest', 'forest', 'forest', 'forest', 'forest', 'forest', 'forest', 'forest', 'forest', 'forest', 'forest', 'forest', 'forest', 'forest', 'forest', 'forest', 'forest', 'forest', 'forest', 'forest', 'forest', 'forest', 'forest', 'forest', 'forest', 'forest', 'forest', 'forest', 'forest', 'forest', 'forest', 'forest', 'forest', 'forest', 'forest', 'forest', 'forest', 'forest', 'forest', 'forest', 'forest', 'forest', 'forest', 'forest', 'forest', 'forest', 'forest', 'forest', 'forest', 'forest', 'forest', 'forest', 'forest', 'forest', 'forest', 'forest', 'forest', 'forest', 'forest', 'forest', 'forest', 'forest', 'forest', 'forest', 'forest', 'forest', 'forest', 'forest', 'forest', 'forest', 'forest', 'forest', 'forest', 'forest', 'forest', 'forest', 'forest', 'forest', 'forest', 'forest', 'forest', 'forest', 'forest', 'forest', 'forest', 'forest', 'forest', 'forest', 'forest', 'forest', 'forest', 'forest', 'forest', 'forest', 'forest', 'forest', 'forest', 'forest', 'forest', 'forest', 'forest', 'forest', 'forest', 'forest', 'forest', 'forest', 'forest', 'forest', 'forest', 'forest', 'forest', 'forest', 'forest', 'forest', 'forest', 'forest', 'forest', 'forest', 'forest', 'forest', 'forest', 'forest', 'forest', 'forest', 'forest', 'forest', 'forest', 'forest', 'forest', 'forest', 'forest', 'forest', 'forest', 'forest', 'forest', 'forest', 'forest', 'forest', 'forest', 'forest', 'forest', 'forest', 'forest', 'forest', 'forest', 'forest', 'forest', 'forest', 'forest', 'forest', 'forest', 'forest', 'forest', 'forest', 'forest', 'forest', 'forest', 'forest', 'forest', 'forest', 'forest', 'forest', 'forest', 'forest', 'forest', 'forest', 'forest', 'forest', 'forest', 'forest', 'forest', 'forest', 'forest', 'forest', 'forest', 'forest', 'forest', 'forest', 'forest', 'forest', 'forest', 'forest', 'forest', 'forest', 'forest', 'forest', 'forest', 'forest', 'forest', 'forest', 'forest', 'forest', 'forest', 'forest', 'forest', 'forest', 'forest', 'forest', 'forest', 'forest', 'forest', 'forest', 'forest', 'forest', 'forest', 'forest', 'forest', 'forest', 'forest', 'forest', 'forest', 'forest', 'forest', 'forest', 'forest', 'forest', 'forest', 'forest', 'forest', 'forest', 'forest', 'forest', 'forest', 'forest', 'forest', 'forest', 'forest', 'forest', 'forest', 'forest', 'forest', 'forest', 'forest', 'forest', 'forest', 'forest', 'forest', 'forest', 'forest', 'forest', 'forest', 'forest', 'forest', 'forest', 'forest', 'forest', 'forest', 'forest', 'forest', 'forest', 'forest', 'forest', 'forest', 'forest', 'forest', 'forest', 'forest', 'forest', 'forest', 'forest', 'forest', 'forest', 'forest', 'forest', 'forest', 'forest', 'forest', 'forest', 'forest', 'forest', 'forest', 'forest', 'forest', 'forest', 'forest', 'forest', 'forest', 'forest', 'forest', 'forest', 'forest', 'forest', 'forest', 'forest', 'forest', 'forest', 'forest', 'highway', 'highway', 'highway', 'highway', 'highway', 'highway', 'highway', 'highway', 'highway', 'highway', 'highway', 'highway', 'highway', 'highway', 'highway', 'highway', 'highway', 'highway', 'highway', 'highway', 'highway', 'highway', 'highway', 'highway', 'highway', 'highway', 'highway', 'highway', 'highway', 'highway', 'highway', 'highway', 'highway', 'highway', 'highway', 'highway', 'highway', 'highway', 'highway', 'highway', 'highway', 'highway', 'highway', 'highway', 'highway', 'highway', 'highway', 'highway', 'highway', 'highway', 'highway', 'highway', 'highway', 'highway', 'highway', 'highway', 'highway', 'highway', 'highway', 'highway', 'highway', 'highway', 'highway', 'highway', 'highway', 'highway', 'highway', 'highway', 'highway', 'highway', 'highway', 'highway', 'highway', 'highway', 'highway', 'highway', 'highway', 'highway', 'highway', 'highway', 'highway', 'highway', 'highway', 'highway', 'highway', 'highway', 'highway', 'highway', 'highway', 'highway', 'highway', 'highway', 'highway', 'highway', 'highway', 'highway', 'highway', 'highway', 'highway', 'highway', 'highway', 'highway', 'highway', 'highway', 'highway', 'highway', 'highway', 'highway', 'highway', 'highway', 'highway', 'highway', 'highway', 'highway', 'highway', 'highway', 'highway', 'highway', 'highway', 'highway', 'highway', 'highway', 'highway', 'highway', 'highway', 'highway', 'highway', 'highway', 'highway', 'highway', 'highway', 'highway', 'highway', 'highway', 'highway', 'highway', 'highway', 'highway', 'highway', 'highway', 'highway', 'highway', 'highway', 'highway', 'highway', 'highway', 'highway', 'highway', 'highway', 'highway', 'highway', 'highway', 'highway', 'highway', 'highway', 'highway', 'highway', 'highway', 'highway', 'highway', 'highway', 'highway', 'highway', 'highway', 'highway', 'highway', 'highway', 'highway', 'highway', 'highway', 'highway', 'highway', 'highway', 'highway', 'highway', 'highway', 'highway', 'highway', 'highway', 'highway', 'highway', 'highway', 'highway', 'highway', 'highway', 'highway', 'highway', 'highway', 'highway', 'highway', 'highway', 'highway', 'highway', 'highway', 'highway', 'highway', 'highway', 'highway', 'highway', 'highway', 'highway', 'highway', 'highway', 'highway', 'highway', 'highway', 'highway', 'highway', 'highway', 'highway', 'highway', 'highway', 'highway', 'highway', 'highway', 'highway', 'highway', 'highway', 'highway', 'highway', 'highway', 'highway', 'highway', 'highway', 'highway', 'highway', 'highway', 'highway', 'highway', 'highway', 'highway', 'highway', 'highway', 'highway', 'highway', 'highway', 'highway', 'highway', 'highway', 'highway', 'highway', 'highway', 'highway', 'highway', 'highway', 'highway', 'highway', 'highway', 'highway', 'highway', 'highway', 'highway', 'highway', 'highway', 'highway', 'highway', 'highway', 'highway', 'highway', 'highway', 'coast', 'coast', 'coast', 'coast', 'coast', 'coast', 'coast', 'coast', 'coast', 'coast', 'coast', 'coast', 'coast', 'coast', 'coast', 'coast', 'coast', 'coast', 'coast', 'coast', 'coast', 'coast', 'coast', 'coast', 'coast', 'coast', 'coast', 'coast', 'coast', 'coast', 'coast', 'coast', 'coast', 'coast', 'coast', 'coast', 'coast', 'coast', 'coast', 'coast', 'coast', 'coast', 'coast', 'coast', 'coast', 'coast', 'coast', 'coast', 'coast', 'coast', 'coast', 'coast', 'coast', 'coast', 'coast', 'coast', 'coast', 'coast', 'coast', 'coast', 'coast', 'coast', 'coast', 'coast', 'coast', 'coast', 'coast', 'coast', 'coast', 'coast', 'coast', 'coast', 'coast', 'coast', 'coast', 'coast', 'coast', 'coast', 'coast', 'coast', 'coast', 'coast', 'coast', 'coast', 'coast', 'coast', 'coast', 'coast', 'coast', 'coast', 'coast', 'coast', 'coast', 'coast', 'coast', 'coast', 'coast', 'coast', 'coast', 'coast', 'coast', 'coast', 'coast', 'coast', 'coast', 'coast', 'coast', 'coast', 'coast', 'coast', 'coast', 'coast', 'coast', 'coast', 'coast', 'coast', 'coast', 'coast', 'coast', 'coast', 'coast', 'coast', 'coast', 'coast', 'coast', 'coast', 'coast', 'coast', 'coast', 'coast', 'coast', 'coast', 'coast', 'coast', 'coast', 'coast', 'coast', 'coast', 'coast', 'coast', 'coast', 'coast', 'coast', 'coast', 'coast', 'coast', 'coast', 'coast', 'coast', 'coast', 'coast', 'coast', 'coast', 'coast', 'coast', 'coast', 'coast', 'coast', 'coast', 'coast', 'coast', 'coast', 'coast', 'coast', 'coast', 'coast', 'coast', 'coast', 'coast', 'coast', 'coast', 'coast', 'coast', 'coast', 'coast', 'coast', 'coast', 'coast', 'coast', 'coast', 'coast', 'coast', 'coast', 'coast', 'coast', 'coast', 'coast', 'coast', 'coast', 'coast', 'coast', 'coast', 'coast', 'coast', 'coast', 'coast', 'coast', 'coast', 'coast', 'coast', 'coast', 'coast', 'coast', 'coast', 'coast', 'coast', 'coast', 'coast', 'coast', 'coast', 'coast', 'coast', 'coast', 'coast', 'coast', 'coast', 'coast', 'coast', 'coast', 'coast', 'coast', 'coast', 'coast', 'coast', 'coast', 'coast', 'coast', 'coast', 'coast', 'coast', 'coast', 'coast', 'coast', 'coast', 'coast', 'coast', 'coast', 'coast', 'coast', 'coast', 'coast', 'coast', 'coast', 'coast', 'coast', 'coast', 'coast', 'coast', 'coast', 'coast', 'coast', 'coast', 'coast', 'coast', 'coast', 'coast', 'coast', 'coast', 'coast', 'coast', 'coast', 'coast', 'coast', 'coast', 'coast', 'coast', 'coast', 'coast', 'coast', 'coast', 'coast', 'coast', 'coast', 'coast', 'coast', 'coast', 'coast', 'coast', 'coast', 'coast', 'coast', 'coast', 'coast', 'coast', 'coast', 'coast', 'coast', 'coast', 'coast', 'coast', 'coast', 'coast', 'coast', 'coast', 'coast', 'coast', 'coast', 'coast', 'coast', 'coast', 'coast', 'coast', 'coast', 'coast', 'coast', 'coast', 'coast', 'coast', 'coast', 'coast', 'coast', 'coast', 'coast', 'coast', 'coast', 'coast', 'coast', 'coast', 'coast', 'coast', 'coast', 'coast', 'coast', 'coast', 'coast', 'coast', 'coast', 'coast', 'coast', 'coast', 'coast', 'coast', 'coast', 'coast', 'coast', 'coast', 'coast', 'coast', 'coast', 'coast', 'coast', 'coast', 'coast', 'coast', 'coast', 'coast', 'coast', 'coast', 'coast', 'coast', 'coast', 'coast', 'coast', 'coast', 'coast', 'coast', 'coast', 'coast', 'coast', 'coast']\n"
          ],
          "name": "stdout"
        }
      ]
    },
    {
      "cell_type": "code",
      "metadata": {
        "id": "r8yIePMHvx0w"
      },
      "source": [
        "# encode the labels, converting them from strings to integers\n",
        "lb = LabelBinarizer()\n",
        "labels = lb.fit_transform(labels)"
      ],
      "execution_count": null,
      "outputs": []
    },
    {
      "cell_type": "code",
      "metadata": {
        "id": "5FPCyIqcVGB7",
        "colab": {
          "base_uri": "https://localhost:8080/"
        },
        "outputId": "6dec09e9-e693-4a2e-c9b0-45a7f0f2fe2a"
      },
      "source": [
        "print(labels)"
      ],
      "execution_count": null,
      "outputs": [
        {
          "output_type": "stream",
          "text": [
            "[[0 1 0]\n",
            " [0 1 0]\n",
            " [0 1 0]\n",
            " ...\n",
            " [1 0 0]\n",
            " [1 0 0]\n",
            " [1 0 0]]\n"
          ],
          "name": "stdout"
        }
      ]
    },
    {
      "cell_type": "code",
      "metadata": {
        "id": "E-xr1UQ9-zhu",
        "colab": {
          "base_uri": "https://localhost:8080/"
        },
        "outputId": "3d85788b-70d7-4673-fb6b-d110bc112aab"
      },
      "source": [
        "print(np.array(data).shape)"
      ],
      "execution_count": null,
      "outputs": [
        {
          "output_type": "stream",
          "text": [
            "(948, 256, 256, 3)\n"
          ],
          "name": "stdout"
        }
      ]
    },
    {
      "cell_type": "code",
      "metadata": {
        "id": "Xr8lG_sDv6tP",
        "colab": {
          "base_uri": "https://localhost:8080/"
        },
        "outputId": "598ea563-234f-452c-ba02-fd1767c10e68"
      },
      "source": [
        "# perform a training and testing split, using 75% of the data for\n",
        "# training and 25% for evaluation\n",
        "(trainX, testX, trainY, testY) = train_test_split(np.array(data),\tnp.array(labels), test_size=0.15)\n",
        "print(trainX.shape)\n",
        "print(trainY.shape)"
      ],
      "execution_count": null,
      "outputs": [
        {
          "output_type": "stream",
          "text": [
            "(805, 256, 256, 3)\n",
            "(805, 3)\n"
          ],
          "name": "stdout"
        }
      ]
    },
    {
      "cell_type": "code",
      "metadata": {
        "id": "-jKeOzGSv9mH"
      },
      "source": [
        "from keras.models import Sequential\n",
        "from keras.layers.core import Flatten\n",
        "from keras.layers.core import Dense, Dropout\n",
        "\n",
        "model = Sequential(\n",
        "    [\n",
        "        Flatten(input_shape=(256*256*3,)),\n",
        "        Dense(512, activation=\"relu\"),\n",
        "        Dense(256, activation=\"relu\"),\n",
        "        Dense(128, activation=\"relu\"),\n",
        "        Dense(64, activation=\"relu\"),\n",
        "        Dense(32, activation=\"relu\"),\n",
        "        Dropout(0.3),\n",
        "        Dense(16, activation=\"relu\"),\n",
        "        Dense(8, activation=\"relu\"),\n",
        "        Dense(3, activation = \"softmax\"),\n",
        "    ]\n",
        ")"
      ],
      "execution_count": null,
      "outputs": []
    },
    {
      "cell_type": "code",
      "metadata": {
        "id": "O2BScVo0wC62",
        "colab": {
          "base_uri": "https://localhost:8080/"
        },
        "outputId": "2ba1b8a5-b9fc-49b6-8e56-8914b61da9e5"
      },
      "source": [
        "model.summary()"
      ],
      "execution_count": null,
      "outputs": [
        {
          "output_type": "stream",
          "text": [
            "Model: \"sequential\"\n",
            "_________________________________________________________________\n",
            "Layer (type)                 Output Shape              Param #   \n",
            "=================================================================\n",
            "flatten (Flatten)            (None, 196608)            0         \n",
            "_________________________________________________________________\n",
            "dense (Dense)                (None, 512)               100663808 \n",
            "_________________________________________________________________\n",
            "dense_1 (Dense)              (None, 256)               131328    \n",
            "_________________________________________________________________\n",
            "dense_2 (Dense)              (None, 128)               32896     \n",
            "_________________________________________________________________\n",
            "dense_3 (Dense)              (None, 128)               16512     \n",
            "_________________________________________________________________\n",
            "dense_4 (Dense)              (None, 64)                8256      \n",
            "_________________________________________________________________\n",
            "dense_5 (Dense)              (None, 32)                2080      \n",
            "_________________________________________________________________\n",
            "dropout (Dropout)            (None, 32)                0         \n",
            "_________________________________________________________________\n",
            "dense_6 (Dense)              (None, 16)                528       \n",
            "_________________________________________________________________\n",
            "dense_7 (Dense)              (None, 8)                 136       \n",
            "_________________________________________________________________\n",
            "dense_8 (Dense)              (None, 3)                 27        \n",
            "=================================================================\n",
            "Total params: 100,855,571\n",
            "Trainable params: 100,855,571\n",
            "Non-trainable params: 0\n",
            "_________________________________________________________________\n"
          ],
          "name": "stdout"
        }
      ]
    },
    {
      "cell_type": "code",
      "metadata": {
        "id": "h5MTj5SUwGpG",
        "colab": {
          "base_uri": "https://localhost:8080/"
        },
        "outputId": "fb98d216-e9e6-4851-e7cd-5386a7aa448c"
      },
      "source": [
        "# train the model using the Adam optimizer\n",
        "print(\"[INFO] training network...\")\n",
        "opt = Adam(lr=1e-3, decay=1e-3)\n",
        "model.compile(loss=\"categorical_crossentropy\", optimizer=opt,\n",
        "\tmetrics=[\"accuracy\"])\n",
        "H = model.fit(trainX, trainY, validation_data=(testX, testY), epochs=200, batch_size=16)"
      ],
      "execution_count": null,
      "outputs": [
        {
          "output_type": "stream",
          "text": [
            "[INFO] training network...\n",
            "Epoch 1/200\n",
            "WARNING:tensorflow:Model was constructed with shape (None, 196608) for input KerasTensor(type_spec=TensorSpec(shape=(None, 196608), dtype=tf.float32, name='flatten_2_input'), name='flatten_2_input', description=\"created by layer 'flatten_2_input'\"), but it was called on an input with incompatible shape (None, 256, 256, 3).\n",
            "WARNING:tensorflow:Model was constructed with shape (None, 196608) for input KerasTensor(type_spec=TensorSpec(shape=(None, 196608), dtype=tf.float32, name='flatten_2_input'), name='flatten_2_input', description=\"created by layer 'flatten_2_input'\"), but it was called on an input with incompatible shape (None, 256, 256, 3).\n",
            "51/51 [==============================] - ETA: 0s - loss: 9.4079 - accuracy: 0.3543WARNING:tensorflow:Model was constructed with shape (None, 196608) for input KerasTensor(type_spec=TensorSpec(shape=(None, 196608), dtype=tf.float32, name='flatten_2_input'), name='flatten_2_input', description=\"created by layer 'flatten_2_input'\"), but it was called on an input with incompatible shape (None, 256, 256, 3).\n",
            "51/51 [==============================] - 2s 34ms/step - loss: 9.3357 - accuracy: 0.3547 - val_loss: 1.4371 - val_accuracy: 0.3427\n",
            "Epoch 2/200\n",
            "51/51 [==============================] - 2s 30ms/step - loss: 1.5982 - accuracy: 0.3761 - val_loss: 0.9489 - val_accuracy: 0.5035\n",
            "Epoch 3/200\n",
            "51/51 [==============================] - 2s 30ms/step - loss: 1.5190 - accuracy: 0.3833 - val_loss: 1.0618 - val_accuracy: 0.2657\n",
            "Epoch 4/200\n",
            "51/51 [==============================] - 2s 30ms/step - loss: 1.0860 - accuracy: 0.4581 - val_loss: 0.9546 - val_accuracy: 0.5105\n",
            "Epoch 5/200\n",
            "51/51 [==============================] - 2s 30ms/step - loss: 0.9849 - accuracy: 0.4625 - val_loss: 1.0510 - val_accuracy: 0.2797\n",
            "Epoch 6/200\n",
            "51/51 [==============================] - 1s 29ms/step - loss: 1.0150 - accuracy: 0.4008 - val_loss: 0.9077 - val_accuracy: 0.4196\n",
            "Epoch 7/200\n",
            "51/51 [==============================] - 2s 30ms/step - loss: 1.0131 - accuracy: 0.4358 - val_loss: 0.8476 - val_accuracy: 0.5804\n",
            "Epoch 8/200\n",
            "51/51 [==============================] - 1s 29ms/step - loss: 0.9009 - accuracy: 0.5428 - val_loss: 0.8975 - val_accuracy: 0.5105\n",
            "Epoch 9/200\n",
            "51/51 [==============================] - 1s 29ms/step - loss: 0.8757 - accuracy: 0.5646 - val_loss: 0.8233 - val_accuracy: 0.6364\n",
            "Epoch 10/200\n",
            "51/51 [==============================] - 2s 30ms/step - loss: 0.8958 - accuracy: 0.5283 - val_loss: 0.9260 - val_accuracy: 0.4965\n",
            "Epoch 11/200\n",
            "51/51 [==============================] - 2s 30ms/step - loss: 0.8539 - accuracy: 0.5660 - val_loss: 0.7551 - val_accuracy: 0.6503\n",
            "Epoch 12/200\n",
            "51/51 [==============================] - 2s 30ms/step - loss: 0.7913 - accuracy: 0.5842 - val_loss: 0.7809 - val_accuracy: 0.5874\n",
            "Epoch 13/200\n",
            "51/51 [==============================] - 2s 30ms/step - loss: 0.8369 - accuracy: 0.5904 - val_loss: 0.8864 - val_accuracy: 0.5315\n",
            "Epoch 14/200\n",
            "51/51 [==============================] - 2s 30ms/step - loss: 0.8240 - accuracy: 0.5766 - val_loss: 0.7708 - val_accuracy: 0.5804\n",
            "Epoch 15/200\n",
            "51/51 [==============================] - 1s 29ms/step - loss: 0.7576 - accuracy: 0.6111 - val_loss: 0.9110 - val_accuracy: 0.5035\n",
            "Epoch 16/200\n",
            "51/51 [==============================] - 2s 30ms/step - loss: 0.8137 - accuracy: 0.5892 - val_loss: 0.7739 - val_accuracy: 0.5874\n",
            "Epoch 17/200\n",
            "51/51 [==============================] - 2s 31ms/step - loss: 0.7170 - accuracy: 0.6072 - val_loss: 0.7824 - val_accuracy: 0.6154\n",
            "Epoch 18/200\n",
            "51/51 [==============================] - 2s 30ms/step - loss: 0.7923 - accuracy: 0.6099 - val_loss: 0.8146 - val_accuracy: 0.5664\n",
            "Epoch 19/200\n",
            "51/51 [==============================] - 1s 29ms/step - loss: 0.7379 - accuracy: 0.6086 - val_loss: 0.9482 - val_accuracy: 0.4755\n",
            "Epoch 20/200\n",
            "51/51 [==============================] - 1s 29ms/step - loss: 0.8788 - accuracy: 0.5490 - val_loss: 0.7446 - val_accuracy: 0.5874\n",
            "Epoch 21/200\n",
            "51/51 [==============================] - 2s 29ms/step - loss: 0.7380 - accuracy: 0.6199 - val_loss: 0.7600 - val_accuracy: 0.6084\n",
            "Epoch 22/200\n",
            "51/51 [==============================] - 1s 29ms/step - loss: 0.6775 - accuracy: 0.6205 - val_loss: 0.7351 - val_accuracy: 0.6643\n",
            "Epoch 23/200\n",
            "51/51 [==============================] - 2s 30ms/step - loss: 0.7043 - accuracy: 0.6378 - val_loss: 0.7188 - val_accuracy: 0.6014\n",
            "Epoch 24/200\n",
            "51/51 [==============================] - 1s 29ms/step - loss: 0.6580 - accuracy: 0.6584 - val_loss: 0.7045 - val_accuracy: 0.6364\n",
            "Epoch 25/200\n",
            "51/51 [==============================] - 2s 30ms/step - loss: 0.8418 - accuracy: 0.5560 - val_loss: 0.7789 - val_accuracy: 0.5804\n",
            "Epoch 26/200\n",
            "51/51 [==============================] - 2s 30ms/step - loss: 0.6243 - accuracy: 0.6631 - val_loss: 0.9078 - val_accuracy: 0.5944\n",
            "Epoch 27/200\n",
            "51/51 [==============================] - 2s 30ms/step - loss: 0.5971 - accuracy: 0.6684 - val_loss: 1.3103 - val_accuracy: 0.6014\n",
            "Epoch 28/200\n",
            "51/51 [==============================] - 2s 30ms/step - loss: 0.7481 - accuracy: 0.6496 - val_loss: 0.7954 - val_accuracy: 0.5524\n",
            "Epoch 29/200\n",
            "51/51 [==============================] - 2s 30ms/step - loss: 0.6623 - accuracy: 0.6448 - val_loss: 0.7175 - val_accuracy: 0.6084\n",
            "Epoch 30/200\n",
            "51/51 [==============================] - 2s 30ms/step - loss: 0.6198 - accuracy: 0.6706 - val_loss: 0.7489 - val_accuracy: 0.5664\n",
            "Epoch 31/200\n",
            "51/51 [==============================] - 2s 30ms/step - loss: 0.6687 - accuracy: 0.6486 - val_loss: 0.8385 - val_accuracy: 0.5734\n",
            "Epoch 32/200\n",
            "51/51 [==============================] - 2s 30ms/step - loss: 0.5811 - accuracy: 0.6594 - val_loss: 0.7514 - val_accuracy: 0.7133\n",
            "Epoch 33/200\n",
            "51/51 [==============================] - 2s 30ms/step - loss: 0.5239 - accuracy: 0.7151 - val_loss: 0.7674 - val_accuracy: 0.5664\n",
            "Epoch 34/200\n",
            "51/51 [==============================] - 2s 30ms/step - loss: 0.5903 - accuracy: 0.6798 - val_loss: 0.7970 - val_accuracy: 0.6294\n",
            "Epoch 35/200\n",
            "51/51 [==============================] - 2s 30ms/step - loss: 0.8538 - accuracy: 0.5765 - val_loss: 0.6826 - val_accuracy: 0.6084\n",
            "Epoch 36/200\n",
            "51/51 [==============================] - 2s 30ms/step - loss: 0.6122 - accuracy: 0.6464 - val_loss: 0.7099 - val_accuracy: 0.5804\n",
            "Epoch 37/200\n",
            "51/51 [==============================] - 2s 30ms/step - loss: 0.5935 - accuracy: 0.6442 - val_loss: 0.7458 - val_accuracy: 0.6434\n",
            "Epoch 38/200\n",
            "51/51 [==============================] - 2s 30ms/step - loss: 0.6534 - accuracy: 0.6741 - val_loss: 0.8031 - val_accuracy: 0.7273\n",
            "Epoch 39/200\n",
            "51/51 [==============================] - 2s 30ms/step - loss: 0.6049 - accuracy: 0.7105 - val_loss: 0.7040 - val_accuracy: 0.7133\n",
            "Epoch 40/200\n",
            "51/51 [==============================] - 2s 31ms/step - loss: 0.5333 - accuracy: 0.7089 - val_loss: 0.6601 - val_accuracy: 0.7622\n",
            "Epoch 41/200\n",
            "51/51 [==============================] - 2s 30ms/step - loss: 0.5639 - accuracy: 0.7249 - val_loss: 0.7057 - val_accuracy: 0.6224\n",
            "Epoch 42/200\n",
            "51/51 [==============================] - 2s 29ms/step - loss: 0.4906 - accuracy: 0.7297 - val_loss: 0.6923 - val_accuracy: 0.8042\n",
            "Epoch 43/200\n",
            "51/51 [==============================] - 2s 30ms/step - loss: 0.4734 - accuracy: 0.7571 - val_loss: 0.6565 - val_accuracy: 0.7762\n",
            "Epoch 44/200\n",
            "51/51 [==============================] - 2s 30ms/step - loss: 0.5181 - accuracy: 0.7195 - val_loss: 0.7493 - val_accuracy: 0.7273\n",
            "Epoch 45/200\n",
            "51/51 [==============================] - 2s 30ms/step - loss: 0.5196 - accuracy: 0.7544 - val_loss: 0.6464 - val_accuracy: 0.6853\n",
            "Epoch 46/200\n",
            "51/51 [==============================] - 1s 29ms/step - loss: 0.4572 - accuracy: 0.7771 - val_loss: 0.7010 - val_accuracy: 0.7133\n",
            "Epoch 47/200\n",
            "51/51 [==============================] - 2s 30ms/step - loss: 0.4708 - accuracy: 0.7533 - val_loss: 0.8402 - val_accuracy: 0.8042\n",
            "Epoch 48/200\n",
            "51/51 [==============================] - 2s 30ms/step - loss: 0.4420 - accuracy: 0.7828 - val_loss: 0.8764 - val_accuracy: 0.6783\n",
            "Epoch 49/200\n",
            "51/51 [==============================] - 2s 30ms/step - loss: 0.5537 - accuracy: 0.7229 - val_loss: 0.7832 - val_accuracy: 0.8182\n",
            "Epoch 50/200\n",
            "51/51 [==============================] - 2s 30ms/step - loss: 0.4623 - accuracy: 0.7564 - val_loss: 0.6958 - val_accuracy: 0.8182\n",
            "Epoch 51/200\n",
            "51/51 [==============================] - 2s 30ms/step - loss: 0.4320 - accuracy: 0.7922 - val_loss: 0.8002 - val_accuracy: 0.8112\n",
            "Epoch 52/200\n",
            "51/51 [==============================] - 2s 30ms/step - loss: 0.4391 - accuracy: 0.7690 - val_loss: 0.7585 - val_accuracy: 0.8392\n",
            "Epoch 53/200\n",
            "51/51 [==============================] - 2s 30ms/step - loss: 0.4268 - accuracy: 0.7819 - val_loss: 0.8010 - val_accuracy: 0.7762\n",
            "Epoch 54/200\n",
            "51/51 [==============================] - 2s 30ms/step - loss: 0.4426 - accuracy: 0.7647 - val_loss: 0.5940 - val_accuracy: 0.8182\n",
            "Epoch 55/200\n",
            "51/51 [==============================] - 2s 30ms/step - loss: 0.4316 - accuracy: 0.7665 - val_loss: 0.8229 - val_accuracy: 0.8182\n",
            "Epoch 56/200\n",
            "51/51 [==============================] - 2s 30ms/step - loss: 0.4733 - accuracy: 0.7843 - val_loss: 0.7410 - val_accuracy: 0.8671\n",
            "Epoch 57/200\n",
            "51/51 [==============================] - 2s 30ms/step - loss: 0.4084 - accuracy: 0.7865 - val_loss: 0.9560 - val_accuracy: 0.7273\n",
            "Epoch 58/200\n",
            "51/51 [==============================] - 2s 30ms/step - loss: 0.3975 - accuracy: 0.7641 - val_loss: 0.7898 - val_accuracy: 0.8671\n",
            "Epoch 59/200\n",
            "51/51 [==============================] - 2s 30ms/step - loss: 0.3703 - accuracy: 0.7872 - val_loss: 0.7983 - val_accuracy: 0.8182\n",
            "Epoch 60/200\n",
            "51/51 [==============================] - 2s 30ms/step - loss: 0.3430 - accuracy: 0.8165 - val_loss: 1.0160 - val_accuracy: 0.7972\n",
            "Epoch 61/200\n",
            "51/51 [==============================] - 2s 30ms/step - loss: 0.4639 - accuracy: 0.7398 - val_loss: 0.5869 - val_accuracy: 0.8182\n",
            "Epoch 62/200\n",
            "51/51 [==============================] - 2s 30ms/step - loss: 0.4104 - accuracy: 0.8182 - val_loss: 0.6231 - val_accuracy: 0.8112\n",
            "Epoch 63/200\n",
            "51/51 [==============================] - 2s 30ms/step - loss: 0.3475 - accuracy: 0.8266 - val_loss: 0.6453 - val_accuracy: 0.7762\n",
            "Epoch 64/200\n",
            "51/51 [==============================] - 2s 30ms/step - loss: 0.3555 - accuracy: 0.7937 - val_loss: 0.6427 - val_accuracy: 0.8112\n",
            "Epoch 65/200\n",
            "51/51 [==============================] - 2s 30ms/step - loss: 0.3235 - accuracy: 0.8203 - val_loss: 0.8870 - val_accuracy: 0.8531\n",
            "Epoch 66/200\n",
            "51/51 [==============================] - 1s 29ms/step - loss: 0.3237 - accuracy: 0.8242 - val_loss: 0.8882 - val_accuracy: 0.7902\n",
            "Epoch 67/200\n",
            "51/51 [==============================] - 2s 30ms/step - loss: 0.4171 - accuracy: 0.7968 - val_loss: 0.7627 - val_accuracy: 0.7762\n",
            "Epoch 68/200\n",
            "51/51 [==============================] - 2s 30ms/step - loss: 0.2679 - accuracy: 0.8726 - val_loss: 0.8698 - val_accuracy: 0.8322\n",
            "Epoch 69/200\n",
            "51/51 [==============================] - 2s 30ms/step - loss: 0.3972 - accuracy: 0.7940 - val_loss: 0.5550 - val_accuracy: 0.8112\n",
            "Epoch 70/200\n",
            "51/51 [==============================] - 2s 30ms/step - loss: 0.3418 - accuracy: 0.8216 - val_loss: 1.0513 - val_accuracy: 0.7552\n",
            "Epoch 71/200\n",
            "51/51 [==============================] - 2s 30ms/step - loss: 0.3153 - accuracy: 0.8236 - val_loss: 0.7864 - val_accuracy: 0.8182\n",
            "Epoch 72/200\n",
            "51/51 [==============================] - 2s 30ms/step - loss: 0.3385 - accuracy: 0.8540 - val_loss: 0.8048 - val_accuracy: 0.8392\n",
            "Epoch 73/200\n",
            "51/51 [==============================] - 2s 30ms/step - loss: 0.3992 - accuracy: 0.8654 - val_loss: 0.6541 - val_accuracy: 0.8531\n",
            "Epoch 74/200\n",
            "51/51 [==============================] - 2s 30ms/step - loss: 0.2817 - accuracy: 0.8645 - val_loss: 1.2832 - val_accuracy: 0.8112\n",
            "Epoch 75/200\n",
            "51/51 [==============================] - 2s 30ms/step - loss: 0.4182 - accuracy: 0.8151 - val_loss: 0.6712 - val_accuracy: 0.8462\n",
            "Epoch 76/200\n",
            "51/51 [==============================] - 2s 30ms/step - loss: 0.2783 - accuracy: 0.8820 - val_loss: 0.7097 - val_accuracy: 0.6923\n",
            "Epoch 77/200\n",
            "51/51 [==============================] - 2s 30ms/step - loss: 0.2896 - accuracy: 0.8660 - val_loss: 0.7545 - val_accuracy: 0.7413\n",
            "Epoch 78/200\n",
            "51/51 [==============================] - 2s 30ms/step - loss: 0.2794 - accuracy: 0.8638 - val_loss: 0.7562 - val_accuracy: 0.7622\n",
            "Epoch 79/200\n",
            "51/51 [==============================] - 2s 30ms/step - loss: 0.2560 - accuracy: 0.8870 - val_loss: 1.0945 - val_accuracy: 0.8462\n",
            "Epoch 80/200\n",
            "51/51 [==============================] - 2s 30ms/step - loss: 0.6996 - accuracy: 0.7622 - val_loss: 0.6194 - val_accuracy: 0.7832\n",
            "Epoch 81/200\n",
            "51/51 [==============================] - 2s 30ms/step - loss: 0.3983 - accuracy: 0.7854 - val_loss: 0.6741 - val_accuracy: 0.7762\n",
            "Epoch 82/200\n",
            "51/51 [==============================] - 2s 30ms/step - loss: 0.2569 - accuracy: 0.9030 - val_loss: 0.6308 - val_accuracy: 0.8182\n",
            "Epoch 83/200\n",
            "51/51 [==============================] - 2s 30ms/step - loss: 0.3304 - accuracy: 0.8507 - val_loss: 0.6893 - val_accuracy: 0.8392\n",
            "Epoch 84/200\n",
            "51/51 [==============================] - 2s 29ms/step - loss: 0.2661 - accuracy: 0.8953 - val_loss: 0.7335 - val_accuracy: 0.8322\n",
            "Epoch 85/200\n",
            "51/51 [==============================] - 1s 29ms/step - loss: 0.2370 - accuracy: 0.8910 - val_loss: 0.7863 - val_accuracy: 0.8392\n",
            "Epoch 86/200\n",
            "51/51 [==============================] - 2s 30ms/step - loss: 0.2619 - accuracy: 0.8789 - val_loss: 0.8316 - val_accuracy: 0.7902\n",
            "Epoch 87/200\n",
            "51/51 [==============================] - 2s 30ms/step - loss: 0.2176 - accuracy: 0.9140 - val_loss: 0.7241 - val_accuracy: 0.7972\n",
            "Epoch 88/200\n",
            "51/51 [==============================] - 2s 30ms/step - loss: 0.2423 - accuracy: 0.9162 - val_loss: 0.8587 - val_accuracy: 0.7273\n",
            "Epoch 89/200\n",
            "51/51 [==============================] - 2s 30ms/step - loss: 0.3019 - accuracy: 0.8776 - val_loss: 0.7961 - val_accuracy: 0.8601\n",
            "Epoch 90/200\n",
            "51/51 [==============================] - 2s 30ms/step - loss: 0.2014 - accuracy: 0.9112 - val_loss: 0.8624 - val_accuracy: 0.8462\n",
            "Epoch 91/200\n",
            "51/51 [==============================] - 2s 30ms/step - loss: 0.2279 - accuracy: 0.9127 - val_loss: 0.8737 - val_accuracy: 0.7972\n",
            "Epoch 92/200\n",
            "51/51 [==============================] - 2s 30ms/step - loss: 0.2083 - accuracy: 0.9163 - val_loss: 0.8023 - val_accuracy: 0.8182\n",
            "Epoch 93/200\n",
            "51/51 [==============================] - 2s 30ms/step - loss: 0.2075 - accuracy: 0.9293 - val_loss: 0.8901 - val_accuracy: 0.8392\n",
            "Epoch 94/200\n",
            "51/51 [==============================] - 2s 30ms/step - loss: 0.1864 - accuracy: 0.9322 - val_loss: 0.7657 - val_accuracy: 0.8042\n",
            "Epoch 95/200\n",
            "51/51 [==============================] - 2s 30ms/step - loss: 0.2733 - accuracy: 0.8829 - val_loss: 0.6832 - val_accuracy: 0.8252\n",
            "Epoch 96/200\n",
            "51/51 [==============================] - 2s 30ms/step - loss: 0.2188 - accuracy: 0.9093 - val_loss: 0.9629 - val_accuracy: 0.7832\n",
            "Epoch 97/200\n",
            "51/51 [==============================] - 2s 30ms/step - loss: 0.2949 - accuracy: 0.8803 - val_loss: 0.9701 - val_accuracy: 0.8252\n",
            "Epoch 98/200\n",
            "51/51 [==============================] - 2s 30ms/step - loss: 0.1866 - accuracy: 0.9165 - val_loss: 1.1077 - val_accuracy: 0.8252\n",
            "Epoch 99/200\n",
            "51/51 [==============================] - 2s 31ms/step - loss: 0.2342 - accuracy: 0.8850 - val_loss: 0.9345 - val_accuracy: 0.8392\n",
            "Epoch 100/200\n",
            "51/51 [==============================] - 2s 30ms/step - loss: 0.1594 - accuracy: 0.9345 - val_loss: 0.9750 - val_accuracy: 0.8322\n",
            "Epoch 101/200\n",
            "51/51 [==============================] - 2s 30ms/step - loss: 0.1482 - accuracy: 0.9451 - val_loss: 1.0061 - val_accuracy: 0.8462\n",
            "Epoch 102/200\n",
            "51/51 [==============================] - 2s 30ms/step - loss: 0.1333 - accuracy: 0.9575 - val_loss: 0.9934 - val_accuracy: 0.8531\n",
            "Epoch 103/200\n",
            "51/51 [==============================] - 2s 30ms/step - loss: 0.1944 - accuracy: 0.9193 - val_loss: 0.9827 - val_accuracy: 0.8182\n",
            "Epoch 104/200\n",
            "51/51 [==============================] - 2s 30ms/step - loss: 0.1925 - accuracy: 0.9096 - val_loss: 0.9974 - val_accuracy: 0.8322\n",
            "Epoch 105/200\n",
            "51/51 [==============================] - 2s 30ms/step - loss: 0.1654 - accuracy: 0.9464 - val_loss: 0.9346 - val_accuracy: 0.8042\n",
            "Epoch 106/200\n",
            "51/51 [==============================] - 2s 30ms/step - loss: 0.2102 - accuracy: 0.9297 - val_loss: 1.2006 - val_accuracy: 0.7762\n",
            "Epoch 107/200\n",
            "51/51 [==============================] - 2s 30ms/step - loss: 0.3255 - accuracy: 0.8725 - val_loss: 1.0381 - val_accuracy: 0.8462\n",
            "Epoch 108/200\n",
            "51/51 [==============================] - 2s 30ms/step - loss: 0.1549 - accuracy: 0.9489 - val_loss: 0.8049 - val_accuracy: 0.8182\n",
            "Epoch 109/200\n",
            "51/51 [==============================] - 2s 30ms/step - loss: 0.1835 - accuracy: 0.9381 - val_loss: 0.9113 - val_accuracy: 0.8252\n",
            "Epoch 110/200\n",
            "51/51 [==============================] - 2s 30ms/step - loss: 0.1800 - accuracy: 0.9335 - val_loss: 1.3345 - val_accuracy: 0.7902\n",
            "Epoch 111/200\n",
            "51/51 [==============================] - 2s 30ms/step - loss: 0.2593 - accuracy: 0.8973 - val_loss: 0.9137 - val_accuracy: 0.8601\n",
            "Epoch 112/200\n",
            "51/51 [==============================] - 2s 31ms/step - loss: 0.1349 - accuracy: 0.9471 - val_loss: 0.9139 - val_accuracy: 0.8531\n",
            "Epoch 113/200\n",
            "51/51 [==============================] - 2s 31ms/step - loss: 0.1335 - accuracy: 0.9585 - val_loss: 0.9346 - val_accuracy: 0.8462\n",
            "Epoch 114/200\n",
            "51/51 [==============================] - 2s 30ms/step - loss: 0.1362 - accuracy: 0.9502 - val_loss: 0.8769 - val_accuracy: 0.8671\n",
            "Epoch 115/200\n",
            "51/51 [==============================] - 2s 30ms/step - loss: 0.1559 - accuracy: 0.9569 - val_loss: 0.9404 - val_accuracy: 0.8601\n",
            "Epoch 116/200\n",
            "51/51 [==============================] - 2s 30ms/step - loss: 0.1256 - accuracy: 0.9632 - val_loss: 0.9562 - val_accuracy: 0.8671\n",
            "Epoch 117/200\n",
            "51/51 [==============================] - 2s 30ms/step - loss: 0.1188 - accuracy: 0.9622 - val_loss: 0.9648 - val_accuracy: 0.8392\n",
            "Epoch 118/200\n",
            "51/51 [==============================] - 2s 30ms/step - loss: 0.1520 - accuracy: 0.9507 - val_loss: 0.9056 - val_accuracy: 0.8531\n",
            "Epoch 119/200\n",
            "51/51 [==============================] - 2s 30ms/step - loss: 0.2298 - accuracy: 0.9201 - val_loss: 0.9394 - val_accuracy: 0.8531\n",
            "Epoch 120/200\n",
            "51/51 [==============================] - 2s 30ms/step - loss: 0.0914 - accuracy: 0.9746 - val_loss: 1.0787 - val_accuracy: 0.7972\n",
            "Epoch 121/200\n",
            "51/51 [==============================] - 2s 30ms/step - loss: 0.2925 - accuracy: 0.8698 - val_loss: 0.9588 - val_accuracy: 0.7902\n",
            "Epoch 122/200\n",
            "51/51 [==============================] - 2s 30ms/step - loss: 0.1672 - accuracy: 0.9487 - val_loss: 0.9420 - val_accuracy: 0.8112\n",
            "Epoch 123/200\n",
            "51/51 [==============================] - 2s 30ms/step - loss: 0.1760 - accuracy: 0.9361 - val_loss: 1.1632 - val_accuracy: 0.7552\n",
            "Epoch 124/200\n",
            "51/51 [==============================] - 2s 30ms/step - loss: 0.1993 - accuracy: 0.9103 - val_loss: 1.0890 - val_accuracy: 0.8322\n",
            "Epoch 125/200\n",
            "51/51 [==============================] - 2s 30ms/step - loss: 0.1513 - accuracy: 0.9412 - val_loss: 1.2617 - val_accuracy: 0.8601\n",
            "Epoch 126/200\n",
            "51/51 [==============================] - 2s 30ms/step - loss: 0.1176 - accuracy: 0.9658 - val_loss: 0.9447 - val_accuracy: 0.8042\n",
            "Epoch 127/200\n",
            "51/51 [==============================] - 2s 30ms/step - loss: 0.1477 - accuracy: 0.9535 - val_loss: 0.9980 - val_accuracy: 0.8601\n",
            "Epoch 128/200\n",
            "51/51 [==============================] - 2s 30ms/step - loss: 0.1121 - accuracy: 0.9631 - val_loss: 1.1574 - val_accuracy: 0.7972\n",
            "Epoch 129/200\n",
            "51/51 [==============================] - 2s 30ms/step - loss: 0.2089 - accuracy: 0.9274 - val_loss: 1.2991 - val_accuracy: 0.8462\n",
            "Epoch 130/200\n",
            "51/51 [==============================] - 2s 30ms/step - loss: 0.1552 - accuracy: 0.9508 - val_loss: 0.9482 - val_accuracy: 0.8671\n",
            "Epoch 131/200\n",
            "51/51 [==============================] - 2s 30ms/step - loss: 0.0873 - accuracy: 0.9768 - val_loss: 0.9255 - val_accuracy: 0.8601\n",
            "Epoch 132/200\n",
            "51/51 [==============================] - 2s 30ms/step - loss: 0.0985 - accuracy: 0.9752 - val_loss: 0.8202 - val_accuracy: 0.8322\n",
            "Epoch 133/200\n",
            "51/51 [==============================] - 2s 30ms/step - loss: 0.2140 - accuracy: 0.9274 - val_loss: 1.1098 - val_accuracy: 0.8601\n",
            "Epoch 134/200\n",
            "51/51 [==============================] - 2s 30ms/step - loss: 0.1989 - accuracy: 0.9333 - val_loss: 0.8578 - val_accuracy: 0.8322\n",
            "Epoch 135/200\n",
            "51/51 [==============================] - 2s 30ms/step - loss: 0.1251 - accuracy: 0.9566 - val_loss: 0.8952 - val_accuracy: 0.8462\n",
            "Epoch 136/200\n",
            "51/51 [==============================] - 1s 29ms/step - loss: 0.1040 - accuracy: 0.9775 - val_loss: 1.0044 - val_accuracy: 0.8741\n",
            "Epoch 137/200\n",
            "51/51 [==============================] - 2s 30ms/step - loss: 0.0766 - accuracy: 0.9793 - val_loss: 0.9870 - val_accuracy: 0.8741\n",
            "Epoch 138/200\n",
            "51/51 [==============================] - 2s 30ms/step - loss: 0.1049 - accuracy: 0.9669 - val_loss: 0.9565 - val_accuracy: 0.8531\n",
            "Epoch 139/200\n",
            "51/51 [==============================] - 2s 30ms/step - loss: 0.0803 - accuracy: 0.9752 - val_loss: 0.9875 - val_accuracy: 0.8741\n",
            "Epoch 140/200\n",
            "51/51 [==============================] - 2s 30ms/step - loss: 0.0683 - accuracy: 0.9775 - val_loss: 1.0469 - val_accuracy: 0.8531\n",
            "Epoch 141/200\n",
            "51/51 [==============================] - 2s 30ms/step - loss: 0.0883 - accuracy: 0.9716 - val_loss: 1.0288 - val_accuracy: 0.8601\n",
            "Epoch 142/200\n",
            "51/51 [==============================] - 2s 30ms/step - loss: 0.4162 - accuracy: 0.8649 - val_loss: 0.8020 - val_accuracy: 0.8182\n",
            "Epoch 143/200\n",
            "51/51 [==============================] - 2s 30ms/step - loss: 0.3461 - accuracy: 0.8196 - val_loss: 0.8977 - val_accuracy: 0.8182\n",
            "Epoch 144/200\n",
            "51/51 [==============================] - 2s 30ms/step - loss: 0.2156 - accuracy: 0.9163 - val_loss: 1.0298 - val_accuracy: 0.8112\n",
            "Epoch 145/200\n",
            "51/51 [==============================] - 2s 30ms/step - loss: 0.2166 - accuracy: 0.8994 - val_loss: 0.8730 - val_accuracy: 0.8042\n",
            "Epoch 146/200\n",
            "51/51 [==============================] - 2s 30ms/step - loss: 0.1720 - accuracy: 0.9389 - val_loss: 0.9236 - val_accuracy: 0.8042\n",
            "Epoch 147/200\n",
            "51/51 [==============================] - 2s 30ms/step - loss: 0.2411 - accuracy: 0.9127 - val_loss: 0.8920 - val_accuracy: 0.8042\n",
            "Epoch 148/200\n",
            "51/51 [==============================] - 2s 30ms/step - loss: 0.1604 - accuracy: 0.9460 - val_loss: 1.0689 - val_accuracy: 0.8392\n",
            "Epoch 149/200\n",
            "51/51 [==============================] - 2s 31ms/step - loss: 0.1569 - accuracy: 0.9552 - val_loss: 0.8932 - val_accuracy: 0.7902\n",
            "Epoch 150/200\n",
            "51/51 [==============================] - 2s 31ms/step - loss: 0.1569 - accuracy: 0.9562 - val_loss: 0.9533 - val_accuracy: 0.8741\n",
            "Epoch 151/200\n",
            "51/51 [==============================] - 2s 30ms/step - loss: 0.1114 - accuracy: 0.9714 - val_loss: 1.0493 - val_accuracy: 0.8252\n",
            "Epoch 152/200\n",
            "51/51 [==============================] - 2s 30ms/step - loss: 0.1040 - accuracy: 0.9728 - val_loss: 0.9176 - val_accuracy: 0.8042\n",
            "Epoch 153/200\n",
            "51/51 [==============================] - 2s 30ms/step - loss: 0.1057 - accuracy: 0.9638 - val_loss: 0.9917 - val_accuracy: 0.8322\n",
            "Epoch 154/200\n",
            "51/51 [==============================] - 2s 30ms/step - loss: 0.0938 - accuracy: 0.9740 - val_loss: 1.0653 - val_accuracy: 0.8462\n",
            "Epoch 155/200\n",
            "51/51 [==============================] - 2s 30ms/step - loss: 0.0881 - accuracy: 0.9705 - val_loss: 1.1401 - val_accuracy: 0.8601\n",
            "Epoch 156/200\n",
            "51/51 [==============================] - 2s 30ms/step - loss: 0.0813 - accuracy: 0.9777 - val_loss: 1.1236 - val_accuracy: 0.8531\n",
            "Epoch 157/200\n",
            "51/51 [==============================] - 2s 30ms/step - loss: 0.1022 - accuracy: 0.9672 - val_loss: 1.0840 - val_accuracy: 0.8392\n",
            "Epoch 158/200\n",
            "51/51 [==============================] - 2s 31ms/step - loss: 0.0835 - accuracy: 0.9731 - val_loss: 1.0298 - val_accuracy: 0.8462\n",
            "Epoch 159/200\n",
            "51/51 [==============================] - 2s 30ms/step - loss: 0.0606 - accuracy: 0.9903 - val_loss: 1.0837 - val_accuracy: 0.8531\n",
            "Epoch 160/200\n",
            "51/51 [==============================] - 2s 30ms/step - loss: 0.1272 - accuracy: 0.9664 - val_loss: 1.0825 - val_accuracy: 0.8462\n",
            "Epoch 161/200\n",
            "51/51 [==============================] - 2s 30ms/step - loss: 0.0868 - accuracy: 0.9772 - val_loss: 1.1600 - val_accuracy: 0.8671\n",
            "Epoch 162/200\n",
            "51/51 [==============================] - 2s 30ms/step - loss: 0.0689 - accuracy: 0.9816 - val_loss: 1.1962 - val_accuracy: 0.8741\n",
            "Epoch 163/200\n",
            "51/51 [==============================] - 2s 30ms/step - loss: 0.0587 - accuracy: 0.9876 - val_loss: 1.1765 - val_accuracy: 0.8531\n",
            "Epoch 164/200\n",
            "51/51 [==============================] - 2s 30ms/step - loss: 0.3983 - accuracy: 0.8769 - val_loss: 0.9422 - val_accuracy: 0.7902\n",
            "Epoch 165/200\n",
            "51/51 [==============================] - 2s 30ms/step - loss: 0.0929 - accuracy: 0.9786 - val_loss: 1.0124 - val_accuracy: 0.8182\n",
            "Epoch 166/200\n",
            "51/51 [==============================] - 2s 30ms/step - loss: 0.0660 - accuracy: 0.9906 - val_loss: 1.1169 - val_accuracy: 0.8322\n",
            "Epoch 167/200\n",
            "51/51 [==============================] - 2s 30ms/step - loss: 0.0836 - accuracy: 0.9784 - val_loss: 1.1685 - val_accuracy: 0.8392\n",
            "Epoch 168/200\n",
            "51/51 [==============================] - 2s 30ms/step - loss: 0.0692 - accuracy: 0.9875 - val_loss: 1.1770 - val_accuracy: 0.8671\n",
            "Epoch 169/200\n",
            "51/51 [==============================] - 2s 30ms/step - loss: 0.0749 - accuracy: 0.9805 - val_loss: 1.1992 - val_accuracy: 0.8252\n",
            "Epoch 170/200\n",
            "51/51 [==============================] - 2s 30ms/step - loss: 0.0814 - accuracy: 0.9781 - val_loss: 1.0378 - val_accuracy: 0.8462\n",
            "Epoch 171/200\n",
            "51/51 [==============================] - 2s 31ms/step - loss: 0.1712 - accuracy: 0.9333 - val_loss: 1.2197 - val_accuracy: 0.8462\n",
            "Epoch 172/200\n",
            "51/51 [==============================] - 2s 30ms/step - loss: 0.0546 - accuracy: 0.9837 - val_loss: 1.2256 - val_accuracy: 0.8392\n",
            "Epoch 173/200\n",
            "51/51 [==============================] - 2s 31ms/step - loss: 0.0377 - accuracy: 0.9960 - val_loss: 1.2336 - val_accuracy: 0.8601\n",
            "Epoch 174/200\n",
            "51/51 [==============================] - 2s 31ms/step - loss: 0.0488 - accuracy: 0.9921 - val_loss: 1.2445 - val_accuracy: 0.8741\n",
            "Epoch 175/200\n",
            "51/51 [==============================] - 2s 31ms/step - loss: 0.0511 - accuracy: 0.9874 - val_loss: 1.2721 - val_accuracy: 0.8601\n",
            "Epoch 176/200\n",
            "51/51 [==============================] - 2s 30ms/step - loss: 0.0456 - accuracy: 0.9898 - val_loss: 1.2435 - val_accuracy: 0.8671\n",
            "Epoch 177/200\n",
            "51/51 [==============================] - 2s 31ms/step - loss: 0.0538 - accuracy: 0.9880 - val_loss: 1.4786 - val_accuracy: 0.8252\n",
            "Epoch 178/200\n",
            "51/51 [==============================] - 2s 31ms/step - loss: 0.1513 - accuracy: 0.9615 - val_loss: 1.9955 - val_accuracy: 0.8252\n",
            "Epoch 179/200\n",
            "51/51 [==============================] - 2s 31ms/step - loss: 0.1463 - accuracy: 0.9715 - val_loss: 1.1123 - val_accuracy: 0.8741\n",
            "Epoch 180/200\n",
            "51/51 [==============================] - 2s 31ms/step - loss: 0.0693 - accuracy: 0.9790 - val_loss: 1.1662 - val_accuracy: 0.8531\n",
            "Epoch 181/200\n",
            "51/51 [==============================] - 2s 30ms/step - loss: 0.0995 - accuracy: 0.9831 - val_loss: 1.1223 - val_accuracy: 0.8531\n",
            "Epoch 182/200\n",
            "51/51 [==============================] - 2s 30ms/step - loss: 0.0753 - accuracy: 0.9793 - val_loss: 1.0328 - val_accuracy: 0.8741\n",
            "Epoch 183/200\n",
            "51/51 [==============================] - 2s 31ms/step - loss: 0.0622 - accuracy: 0.9863 - val_loss: 1.1175 - val_accuracy: 0.8881\n",
            "Epoch 184/200\n",
            "51/51 [==============================] - 2s 31ms/step - loss: 0.0498 - accuracy: 0.9864 - val_loss: 1.1461 - val_accuracy: 0.8811\n",
            "Epoch 185/200\n",
            "51/51 [==============================] - 2s 31ms/step - loss: 0.0586 - accuracy: 0.9875 - val_loss: 1.0113 - val_accuracy: 0.8881\n",
            "Epoch 186/200\n",
            "51/51 [==============================] - 2s 31ms/step - loss: 0.0334 - accuracy: 0.9913 - val_loss: 1.1274 - val_accuracy: 0.8881\n",
            "Epoch 187/200\n",
            "51/51 [==============================] - 2s 31ms/step - loss: 0.0479 - accuracy: 0.9924 - val_loss: 1.1268 - val_accuracy: 0.8741\n",
            "Epoch 188/200\n",
            "51/51 [==============================] - 2s 31ms/step - loss: 0.0532 - accuracy: 0.9874 - val_loss: 1.5221 - val_accuracy: 0.7622\n",
            "Epoch 189/200\n",
            "51/51 [==============================] - 2s 31ms/step - loss: 0.3611 - accuracy: 0.8877 - val_loss: 0.8773 - val_accuracy: 0.8601\n",
            "Epoch 190/200\n",
            "51/51 [==============================] - 2s 31ms/step - loss: 0.0708 - accuracy: 0.9871 - val_loss: 0.9181 - val_accuracy: 0.8601\n",
            "Epoch 191/200\n",
            "51/51 [==============================] - 2s 31ms/step - loss: 0.0414 - accuracy: 0.9959 - val_loss: 1.0036 - val_accuracy: 0.8671\n",
            "Epoch 192/200\n",
            "51/51 [==============================] - 2s 31ms/step - loss: 0.0468 - accuracy: 0.9910 - val_loss: 1.0228 - val_accuracy: 0.8811\n",
            "Epoch 193/200\n",
            "51/51 [==============================] - 2s 31ms/step - loss: 0.1053 - accuracy: 0.9649 - val_loss: 1.0205 - val_accuracy: 0.8322\n",
            "Epoch 194/200\n",
            "51/51 [==============================] - 2s 31ms/step - loss: 0.0455 - accuracy: 0.9906 - val_loss: 1.1363 - val_accuracy: 0.8392\n",
            "Epoch 195/200\n",
            "51/51 [==============================] - 2s 31ms/step - loss: 0.0286 - accuracy: 0.9973 - val_loss: 1.1027 - val_accuracy: 0.8741\n",
            "Epoch 196/200\n",
            "51/51 [==============================] - 2s 31ms/step - loss: 0.0379 - accuracy: 0.9919 - val_loss: 1.1190 - val_accuracy: 0.8741\n",
            "Epoch 197/200\n",
            "51/51 [==============================] - 2s 31ms/step - loss: 0.0335 - accuracy: 0.9944 - val_loss: 1.1779 - val_accuracy: 0.8881\n",
            "Epoch 198/200\n",
            "51/51 [==============================] - 2s 31ms/step - loss: 0.0325 - accuracy: 0.9913 - val_loss: 1.2052 - val_accuracy: 0.8811\n",
            "Epoch 199/200\n",
            "51/51 [==============================] - 2s 31ms/step - loss: 0.0469 - accuracy: 0.9906 - val_loss: 1.2649 - val_accuracy: 0.8671\n",
            "Epoch 200/200\n",
            "51/51 [==============================] - 2s 32ms/step - loss: 0.0283 - accuracy: 0.9915 - val_loss: 1.1971 - val_accuracy: 0.8881\n"
          ],
          "name": "stdout"
        }
      ]
    },
    {
      "cell_type": "code",
      "metadata": {
        "id": "LcE-OzSJwMC-",
        "colab": {
          "base_uri": "https://localhost:8080/",
          "height": 590
        },
        "outputId": "eaeb1b94-4e6d-44c4-ba09-f5890d7299a1"
      },
      "source": [
        "import matplotlib.pyplot as plt\n",
        "\n",
        "print(H.history.keys())\n",
        "# summarize history for accuracy\n",
        "plt.plot(H.history['accuracy'])\n",
        "plt.plot(H.history['val_accuracy'])\n",
        "plt.title('model accuracy')\n",
        "plt.ylabel('accuracy')\n",
        "plt.xlabel('epoch')\n",
        "plt.legend(['train', 'test'], loc='upper left')\n",
        "plt.show()\n",
        "# summarize history for loss\n",
        "plt.plot(H.history['loss'])\n",
        "plt.plot(H.history['val_loss'])\n",
        "plt.title('model loss')\n",
        "plt.ylabel('loss')\n",
        "plt.xlabel('epoch')\n",
        "plt.legend(['train', 'test'], loc='upper left')\n",
        "plt.show()"
      ],
      "execution_count": null,
      "outputs": [
        {
          "output_type": "stream",
          "text": [
            "dict_keys(['loss', 'accuracy', 'val_loss', 'val_accuracy'])\n"
          ],
          "name": "stdout"
        },
        {
          "output_type": "display_data",
          "data": {
            "image/png": "[encoded data removed]",
            "text/plain": [
              "<Figure size 432x288 with 1 Axes>"
            ]
          },
          "metadata": {
            "tags": [],
            "needs_background": "light"
          }
        },
        {
          "output_type": "display_data",
          "data": {
            "image/png": "[encoded data removed]",
            "text/plain": [
              "<Figure size 432x288 with 1 Axes>"
            ]
          },
          "metadata": {
            "tags": [],
            "needs_background": "light"
          }
        }
      ]
    },
    {
      "cell_type": "code",
      "metadata": {
        "id": "a-YnZ8-bwmcY",
        "colab": {
          "base_uri": "https://localhost:8080/"
        },
        "outputId": "a636caf7-8d37-4d2b-f7e0-ee6217e62385"
      },
      "source": [
        "# evaluate the network\n",
        "print(\"[INFO] evaluating network...\")\n",
        "predictions = model.predict(testX, batch_size=32)\n",
        "print(classification_report(testY.argmax(axis=1),\n",
        "\tpredictions.argmax(axis=1), target_names=lb.classes_))"
      ],
      "execution_count": null,
      "outputs": [
        {
          "output_type": "stream",
          "text": [
            "[INFO] evaluating network...\n",
            "WARNING:tensorflow:Model was constructed with shape (None, 196608) for input KerasTensor(type_spec=TensorSpec(shape=(None, 196608), dtype=tf.float32, name='flatten_2_input'), name='flatten_2_input', description=\"created by layer 'flatten_2_input'\"), but it was called on an input with incompatible shape (None, 256, 256, 3).\n",
            "              precision    recall  f1-score   support\n",
            "\n",
            "       coast       0.91      0.86      0.89        59\n",
            "      forest       0.91      0.86      0.89        37\n",
            "     highway       0.85      0.94      0.89        47\n",
            "\n",
            "    accuracy                           0.89       143\n",
            "   macro avg       0.89      0.89      0.89       143\n",
            "weighted avg       0.89      0.89      0.89       143\n",
            "\n"
          ],
          "name": "stdout"
        }
      ]
    },
    {
      "cell_type": "code",
      "metadata": {
        "id": "H7BS5hFtwqXX",
        "colab": {
          "base_uri": "https://localhost:8080/",
          "height": 617
        },
        "outputId": "17171c9e-3f5a-4888-bfc7-bba15db1d0a2"
      },
      "source": [
        "import cv2\n",
        "import matplotlib.pyplot as plt\n",
        "\n",
        "gambar = 'test_gambar_highway.jpg'\n",
        "image = cv2.imread(gambar)\n",
        "plt.imshow(image)\n",
        "plt.show()"
      ],
      "execution_count": null,
      "outputs": [
        {
          "output_type": "error",
          "ename": "TypeError",
          "evalue": "ignored",
          "traceback": [
            "\u001b[0;31m---------------------------------------------------------------------------\u001b[0m",
            "\u001b[0;31mTypeError\u001b[0m                                 Traceback (most recent call last)",
            "\u001b[0;32m<ipython-input-17-e627f73c85e7>\u001b[0m in \u001b[0;36m<module>\u001b[0;34m()\u001b[0m\n\u001b[1;32m      4\u001b[0m \u001b[0mgambar\u001b[0m \u001b[0;34m=\u001b[0m \u001b[0;34m'test_gambar_highway.jpg'\u001b[0m\u001b[0;34m\u001b[0m\u001b[0;34m\u001b[0m\u001b[0m\n\u001b[1;32m      5\u001b[0m \u001b[0mimage\u001b[0m \u001b[0;34m=\u001b[0m \u001b[0mcv2\u001b[0m\u001b[0;34m.\u001b[0m\u001b[0mimread\u001b[0m\u001b[0;34m(\u001b[0m\u001b[0mgambar\u001b[0m\u001b[0;34m)\u001b[0m\u001b[0;34m\u001b[0m\u001b[0;34m\u001b[0m\u001b[0m\n\u001b[0;32m----> 6\u001b[0;31m \u001b[0mplt\u001b[0m\u001b[0;34m.\u001b[0m\u001b[0mimshow\u001b[0m\u001b[0;34m(\u001b[0m\u001b[0mimage\u001b[0m\u001b[0;34m)\u001b[0m\u001b[0;34m\u001b[0m\u001b[0;34m\u001b[0m\u001b[0m\n\u001b[0m\u001b[1;32m      7\u001b[0m \u001b[0mplt\u001b[0m\u001b[0;34m.\u001b[0m\u001b[0mshow\u001b[0m\u001b[0;34m(\u001b[0m\u001b[0;34m)\u001b[0m\u001b[0;34m\u001b[0m\u001b[0;34m\u001b[0m\u001b[0m\n",
            "\u001b[0;32m/usr/local/lib/python3.7/dist-packages/matplotlib/pyplot.py\u001b[0m in \u001b[0;36mimshow\u001b[0;34m(X, cmap, norm, aspect, interpolation, alpha, vmin, vmax, origin, extent, shape, filternorm, filterrad, imlim, resample, url, data, **kwargs)\u001b[0m\n\u001b[1;32m   2649\u001b[0m         \u001b[0mfilternorm\u001b[0m\u001b[0;34m=\u001b[0m\u001b[0mfilternorm\u001b[0m\u001b[0;34m,\u001b[0m \u001b[0mfilterrad\u001b[0m\u001b[0;34m=\u001b[0m\u001b[0mfilterrad\u001b[0m\u001b[0;34m,\u001b[0m \u001b[0mimlim\u001b[0m\u001b[0;34m=\u001b[0m\u001b[0mimlim\u001b[0m\u001b[0;34m,\u001b[0m\u001b[0;34m\u001b[0m\u001b[0;34m\u001b[0m\u001b[0m\n\u001b[1;32m   2650\u001b[0m         resample=resample, url=url, **({\"data\": data} if data is not\n\u001b[0;32m-> 2651\u001b[0;31m         None else {}), **kwargs)\n\u001b[0m\u001b[1;32m   2652\u001b[0m     \u001b[0msci\u001b[0m\u001b[0;34m(\u001b[0m\u001b[0m__ret\u001b[0m\u001b[0;34m)\u001b[0m\u001b[0;34m\u001b[0m\u001b[0;34m\u001b[0m\u001b[0m\n\u001b[1;32m   2653\u001b[0m     \u001b[0;32mreturn\u001b[0m \u001b[0m__ret\u001b[0m\u001b[0;34m\u001b[0m\u001b[0;34m\u001b[0m\u001b[0m\n",
            "\u001b[0;32m/usr/local/lib/python3.7/dist-packages/matplotlib/__init__.py\u001b[0m in \u001b[0;36minner\u001b[0;34m(ax, data, *args, **kwargs)\u001b[0m\n\u001b[1;32m   1563\u001b[0m     \u001b[0;32mdef\u001b[0m \u001b[0minner\u001b[0m\u001b[0;34m(\u001b[0m\u001b[0max\u001b[0m\u001b[0;34m,\u001b[0m \u001b[0;34m*\u001b[0m\u001b[0margs\u001b[0m\u001b[0;34m,\u001b[0m \u001b[0mdata\u001b[0m\u001b[0;34m=\u001b[0m\u001b[0;32mNone\u001b[0m\u001b[0;34m,\u001b[0m \u001b[0;34m**\u001b[0m\u001b[0mkwargs\u001b[0m\u001b[0;34m)\u001b[0m\u001b[0;34m:\u001b[0m\u001b[0;34m\u001b[0m\u001b[0;34m\u001b[0m\u001b[0m\n\u001b[1;32m   1564\u001b[0m         \u001b[0;32mif\u001b[0m \u001b[0mdata\u001b[0m \u001b[0;32mis\u001b[0m \u001b[0;32mNone\u001b[0m\u001b[0;34m:\u001b[0m\u001b[0;34m\u001b[0m\u001b[0;34m\u001b[0m\u001b[0m\n\u001b[0;32m-> 1565\u001b[0;31m             \u001b[0;32mreturn\u001b[0m \u001b[0mfunc\u001b[0m\u001b[0;34m(\u001b[0m\u001b[0max\u001b[0m\u001b[0;34m,\u001b[0m \u001b[0;34m*\u001b[0m\u001b[0mmap\u001b[0m\u001b[0;34m(\u001b[0m\u001b[0msanitize_sequence\u001b[0m\u001b[0;34m,\u001b[0m \u001b[0margs\u001b[0m\u001b[0;34m)\u001b[0m\u001b[0;34m,\u001b[0m \u001b[0;34m**\u001b[0m\u001b[0mkwargs\u001b[0m\u001b[0;34m)\u001b[0m\u001b[0;34m\u001b[0m\u001b[0;34m\u001b[0m\u001b[0m\n\u001b[0m\u001b[1;32m   1566\u001b[0m \u001b[0;34m\u001b[0m\u001b[0m\n\u001b[1;32m   1567\u001b[0m         \u001b[0mbound\u001b[0m \u001b[0;34m=\u001b[0m \u001b[0mnew_sig\u001b[0m\u001b[0;34m.\u001b[0m\u001b[0mbind\u001b[0m\u001b[0;34m(\u001b[0m\u001b[0max\u001b[0m\u001b[0;34m,\u001b[0m \u001b[0;34m*\u001b[0m\u001b[0margs\u001b[0m\u001b[0;34m,\u001b[0m \u001b[0;34m**\u001b[0m\u001b[0mkwargs\u001b[0m\u001b[0;34m)\u001b[0m\u001b[0;34m\u001b[0m\u001b[0;34m\u001b[0m\u001b[0m\n",
            "\u001b[0;32m/usr/local/lib/python3.7/dist-packages/matplotlib/cbook/deprecation.py\u001b[0m in \u001b[0;36mwrapper\u001b[0;34m(*args, **kwargs)\u001b[0m\n\u001b[1;32m    356\u001b[0m                 \u001b[0;34mf\"%(removal)s.  If any parameter follows {name!r}, they \"\u001b[0m\u001b[0;34m\u001b[0m\u001b[0;34m\u001b[0m\u001b[0m\n\u001b[1;32m    357\u001b[0m                 f\"should be pass as keyword, not positionally.\")\n\u001b[0;32m--> 358\u001b[0;31m         \u001b[0;32mreturn\u001b[0m \u001b[0mfunc\u001b[0m\u001b[0;34m(\u001b[0m\u001b[0;34m*\u001b[0m\u001b[0margs\u001b[0m\u001b[0;34m,\u001b[0m \u001b[0;34m**\u001b[0m\u001b[0mkwargs\u001b[0m\u001b[0;34m)\u001b[0m\u001b[0;34m\u001b[0m\u001b[0;34m\u001b[0m\u001b[0m\n\u001b[0m\u001b[1;32m    359\u001b[0m \u001b[0;34m\u001b[0m\u001b[0m\n\u001b[1;32m    360\u001b[0m     \u001b[0;32mreturn\u001b[0m \u001b[0mwrapper\u001b[0m\u001b[0;34m\u001b[0m\u001b[0;34m\u001b[0m\u001b[0m\n",
            "\u001b[0;32m/usr/local/lib/python3.7/dist-packages/matplotlib/cbook/deprecation.py\u001b[0m in \u001b[0;36mwrapper\u001b[0;34m(*args, **kwargs)\u001b[0m\n\u001b[1;32m    356\u001b[0m                 \u001b[0;34mf\"%(removal)s.  If any parameter follows {name!r}, they \"\u001b[0m\u001b[0;34m\u001b[0m\u001b[0;34m\u001b[0m\u001b[0m\n\u001b[1;32m    357\u001b[0m                 f\"should be pass as keyword, not positionally.\")\n\u001b[0;32m--> 358\u001b[0;31m         \u001b[0;32mreturn\u001b[0m \u001b[0mfunc\u001b[0m\u001b[0;34m(\u001b[0m\u001b[0;34m*\u001b[0m\u001b[0margs\u001b[0m\u001b[0;34m,\u001b[0m \u001b[0;34m**\u001b[0m\u001b[0mkwargs\u001b[0m\u001b[0;34m)\u001b[0m\u001b[0;34m\u001b[0m\u001b[0;34m\u001b[0m\u001b[0m\n\u001b[0m\u001b[1;32m    359\u001b[0m \u001b[0;34m\u001b[0m\u001b[0m\n\u001b[1;32m    360\u001b[0m     \u001b[0;32mreturn\u001b[0m \u001b[0mwrapper\u001b[0m\u001b[0;34m\u001b[0m\u001b[0;34m\u001b[0m\u001b[0m\n",
            "\u001b[0;32m/usr/local/lib/python3.7/dist-packages/matplotlib/axes/_axes.py\u001b[0m in \u001b[0;36mimshow\u001b[0;34m(self, X, cmap, norm, aspect, interpolation, alpha, vmin, vmax, origin, extent, shape, filternorm, filterrad, imlim, resample, url, **kwargs)\u001b[0m\n\u001b[1;32m   5624\u001b[0m                               resample=resample, **kwargs)\n\u001b[1;32m   5625\u001b[0m \u001b[0;34m\u001b[0m\u001b[0m\n\u001b[0;32m-> 5626\u001b[0;31m         \u001b[0mim\u001b[0m\u001b[0;34m.\u001b[0m\u001b[0mset_data\u001b[0m\u001b[0;34m(\u001b[0m\u001b[0mX\u001b[0m\u001b[0;34m)\u001b[0m\u001b[0;34m\u001b[0m\u001b[0;34m\u001b[0m\u001b[0m\n\u001b[0m\u001b[1;32m   5627\u001b[0m         \u001b[0mim\u001b[0m\u001b[0;34m.\u001b[0m\u001b[0mset_alpha\u001b[0m\u001b[0;34m(\u001b[0m\u001b[0malpha\u001b[0m\u001b[0;34m)\u001b[0m\u001b[0;34m\u001b[0m\u001b[0;34m\u001b[0m\u001b[0m\n\u001b[1;32m   5628\u001b[0m         \u001b[0;32mif\u001b[0m \u001b[0mim\u001b[0m\u001b[0;34m.\u001b[0m\u001b[0mget_clip_path\u001b[0m\u001b[0;34m(\u001b[0m\u001b[0;34m)\u001b[0m \u001b[0;32mis\u001b[0m \u001b[0;32mNone\u001b[0m\u001b[0;34m:\u001b[0m\u001b[0;34m\u001b[0m\u001b[0;34m\u001b[0m\u001b[0m\n",
            "\u001b[0;32m/usr/local/lib/python3.7/dist-packages/matplotlib/image.py\u001b[0m in \u001b[0;36mset_data\u001b[0;34m(self, A)\u001b[0m\n\u001b[1;32m    692\u001b[0m                 not np.can_cast(self._A.dtype, float, \"same_kind\")):\n\u001b[1;32m    693\u001b[0m             raise TypeError(\"Image data of dtype {} cannot be converted to \"\n\u001b[0;32m--> 694\u001b[0;31m                             \"float\".format(self._A.dtype))\n\u001b[0m\u001b[1;32m    695\u001b[0m \u001b[0;34m\u001b[0m\u001b[0m\n\u001b[1;32m    696\u001b[0m         if not (self._A.ndim == 2\n",
            "\u001b[0;31mTypeError\u001b[0m: Image data of dtype object cannot be converted to float"
          ]
        },
        {
          "output_type": "display_data",
          "data": {
            "image/png": "[encoded data removed]",
            "text/plain": [
              "<Figure size 432x288 with 1 Axes>"
            ]
          },
          "metadata": {
            "tags": [],
            "needs_background": "light"
          }
        }
      ]
    },
    {
      "cell_type": "code",
      "metadata": {
        "id": "V0c7J64ICBG8"
      },
      "source": [
        "image_test=Image.open(gambar)\n",
        "image_test=np.array(image_test.resize((64,64))) / 255.0\n",
        "image_test.shape"
      ],
      "execution_count": null,
      "outputs": []
    },
    {
      "cell_type": "code",
      "metadata": {
        "id": "6Kn4mu32CTk6"
      },
      "source": [
        "image_test=np.expand_dims(image_test, axis=0)\n",
        "image_test.shape"
      ],
      "execution_count": null,
      "outputs": []
    },
    {
      "cell_type": "code",
      "metadata": {
        "id": "uILM9mJHChia"
      },
      "source": [
        "predict = model.predict(image_test)"
      ],
      "execution_count": null,
      "outputs": []
    },
    {
      "cell_type": "code",
      "metadata": {
        "id": "HGoKE2RSCnRC"
      },
      "source": [
        "print(predict)"
      ],
      "execution_count": null,
      "outputs": []
    },
    {
      "cell_type": "code",
      "metadata": {
        "id": "23ncmY_rCokR"
      },
      "source": [
        "print(lb.classes_[predict.argmax(axis=1)])"
      ],
      "execution_count": null,
      "outputs": []
    },
    {
      "cell_type": "code",
      "metadata": {
        "id": "DU3mEG7EC-pq"
      },
      "source": [
        ""
      ],
      "execution_count": null,
      "outputs": []
    }
  ]
}